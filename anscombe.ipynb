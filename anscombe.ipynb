{
 "cells": [
  {
   "cell_type": "markdown",
   "metadata": {},
   "source": [
    "# Anscombe's quartet\n",
    "\n",
    "---\n"
   ]
  },
  {
   "cell_type": "markdown",
   "metadata": {},
   "source": [
    "Frank Anscombe was a British Statistician and his dataset is from the early 1970's. We do not know how the dateset what constructed but we do know that Anscombe created it to emphasize the importance of visualizing your data\n"
   ]
  },
  {
   "cell_type": "code",
   "execution_count": null,
   "metadata": {},
   "outputs": [],
   "source": [
    "import numpy as np\n",
    "import matplotlib.pyplot as plt\n",
    "import seaborn as sns"
   ]
  },
  {
   "cell_type": "code",
   "execution_count": null,
   "metadata": {},
   "outputs": [],
   "source": [
    "df = sns.load_dataset(\"anscombe\")\n",
    "df.T"
   ]
  },
  {
   "cell_type": "markdown",
   "metadata": {},
   "source": [
    "## 2. Descriptive Statistics\n"
   ]
  },
  {
   "cell_type": "code",
   "execution_count": null,
   "metadata": {},
   "outputs": [],
   "source": [
    "df.describe()"
   ]
  },
  {
   "cell_type": "markdown",
   "metadata": {},
   "source": [
    "The dataset contains 4 groups all with the same mean and std\n",
    "\n",
    "Does everyone know have an idea about what std mean?\n"
   ]
  },
  {
   "cell_type": "code",
   "execution_count": null,
   "metadata": {},
   "outputs": [],
   "source": [
    "dfGroups = df.groupby(\"dataset\")\n",
    "dfGroups.describe()"
   ]
  },
  {
   "cell_type": "markdown",
   "metadata": {},
   "source": [
    "### 2.1 Correlation\n"
   ]
  },
  {
   "cell_type": "code",
   "execution_count": null,
   "metadata": {},
   "outputs": [],
   "source": [
    "dfGroups = df.groupby(\"dataset\").corr()\n",
    "dfGroups"
   ]
  },
  {
   "cell_type": "markdown",
   "metadata": {},
   "source": [
    "## REMEMBER - Correlation is not the same as causality\n"
   ]
  },
  {
   "cell_type": "markdown",
   "metadata": {},
   "source": [
    "### 2.2 Simple linear regression\n"
   ]
  },
  {
   "cell_type": "code",
   "execution_count": null,
   "metadata": {},
   "outputs": [],
   "source": [
    "no_decimals = 3"
   ]
  },
  {
   "cell_type": "code",
   "execution_count": null,
   "metadata": {},
   "outputs": [],
   "source": [
    "reg_1 = df[df[\"dataset\"] == \"I\"]\n",
    "slope_1, intercept_1 = np.polyfit(reg_1[\"x\"], reg_1[\"y\"], deg=1)\n",
    "np.round(np.array([slope_1, intercept_1]), no_decimals)"
   ]
  },
  {
   "cell_type": "code",
   "execution_count": null,
   "metadata": {},
   "outputs": [],
   "source": [
    "reg_2 = df[df[\"dataset\"] == \"II\"]\n",
    "slope_2, intercept_2 = np.polyfit(reg_2[\"x\"], reg_2[\"y\"], deg=1)\n",
    "np.round(np.array([slope_2, intercept_2]), no_decimals)"
   ]
  },
  {
   "cell_type": "code",
   "execution_count": null,
   "metadata": {},
   "outputs": [],
   "source": [
    "reg_3 = df[df[\"dataset\"] == \"III\"]\n",
    "slope_3, intercept_3 = np.polyfit(reg_3[\"x\"], reg_3[\"y\"], deg=1)\n",
    "np.round(np.array([slope_3, intercept_3]), no_decimals)"
   ]
  },
  {
   "cell_type": "code",
   "execution_count": null,
   "metadata": {},
   "outputs": [],
   "source": [
    "reg_4 = df[df[\"dataset\"] == \"IV\"]\n",
    "slope_4, intercept_4 = np.polyfit(reg_4[\"x\"], reg_4[\"y\"], deg=1)\n",
    "np.round(np.array([slope_4, intercept_4]), no_decimals)"
   ]
  },
  {
   "cell_type": "markdown",
   "metadata": {},
   "source": [
    "## 3. Plots\n"
   ]
  },
  {
   "cell_type": "code",
   "execution_count": null,
   "metadata": {},
   "outputs": [],
   "source": [
    "fig, axs = plt.subplots(2, 2, figsize=(15, 9), dpi=500, sharex=True, sharey=True)\n",
    "\n",
    "axs[0, 0].set_title(\"Dataset I\", fontsize=20)\n",
    "axs[0, 0].set_xlabel(\"X\", fontsize=13)\n",
    "axs[0, 0].set_ylabel(\"Y\", fontsize=13)\n",
    "axs[0, 0].plot(reg_1[\"x\"], reg_1[\"y\"], \"go\")\n",
    "axs[0, 0].plot(reg_1[\"x\"], slope_1 * reg_1[\"x\"] + intercept_1, \"r\")\n",
    "\n",
    "axs[0, 1].set_title(\"Dataset II\", fontsize=20)\n",
    "axs[0, 1].set_xlabel(\"X\", fontsize=13)\n",
    "axs[0, 1].set_ylabel(\"Y\", fontsize=13)\n",
    "axs[0, 1].plot(reg_2[\"x\"], reg_2[\"y\"], \"go\")\n",
    "axs[0, 1].plot(reg_2[\"x\"], slope_2 * reg_2[\"x\"] + intercept_2, \"r\")\n",
    "\n",
    "axs[1, 0].set_title(\"Dataset III\", fontsize=20)\n",
    "axs[1, 0].set_xlabel(\"X\", fontsize=13)\n",
    "axs[1, 0].set_ylabel(\"Y\", fontsize=13)\n",
    "axs[1, 0].plot(reg_3[\"x\"], reg_3[\"y\"], \"go\")\n",
    "axs[1, 0].plot(reg_3[\"x\"], slope_3 * reg_3[\"x\"] + intercept_3, \"r\")\n",
    "\n",
    "axs[1, 1].set_title(\"Dataset IV\", fontsize=20)\n",
    "axs[1, 1].set_xlabel(\"X\", fontsize=13)\n",
    "axs[1, 1].set_ylabel(\"Y\", fontsize=13)\n",
    "axs[1, 1].plot(reg_4[\"x\"], reg_4[\"y\"], \"go\")\n",
    "axs[1, 1].plot(reg_4[\"x\"], slope_4 * reg_4[\"x\"] + intercept_4, \"r\")\n",
    "\n",
    "plt.show()"
   ]
  },
  {
   "cell_type": "markdown",
   "metadata": {},
   "source": [
    "## 4. What to do if your data has more than 3 dimensions\n"
   ]
  },
  {
   "cell_type": "markdown",
   "metadata": {},
   "source": [
    "- Principal Components Analysis (PCA)\n",
    "- Linear discriminant analysis (extension of Fischer Discriminant Analysis)\n",
    "- Feature selection\n",
    "- See more at [Wikipedia](https://en.wikipedia.org/wiki/Dimensionality_reduction)\n"
   ]
  },
  {
   "cell_type": "markdown",
   "metadata": {},
   "source": []
  }
 ],
 "metadata": {
  "kernelspec": {
   "display_name": "Python 3",
   "language": "python",
   "name": "python3"
  },
  "language_info": {
   "codemirror_mode": {
    "name": "ipython",
    "version": 3
   },
   "file_extension": ".py",
   "mimetype": "text/x-python",
   "name": "python",
   "nbconvert_exporter": "python",
   "pygments_lexer": "ipython3",
   "version": "3.12.1"
  }
 },
 "nbformat": 4,
 "nbformat_minor": 2
}
