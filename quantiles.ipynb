{
 "cells": [
  {
   "cell_type": "code",
   "execution_count": null,
   "id": "c3bdbdca-99b9-4a5d-bc4b-2f8b6a31225c",
   "metadata": {},
   "outputs": [],
   "source": [
    "import pandas as pd\n",
    "import random"
   ]
  },
  {
   "cell_type": "markdown",
   "id": "0b8bef73-e96e-4b29-b7f9-8f14a84f70da",
   "metadata": {},
   "source": [
    "# Definition of quantiles\n"
   ]
  },
  {
   "cell_type": "markdown",
   "id": "c92ab961-6fa1-47a9-b289-84602911a069",
   "metadata": {},
   "source": [
    "p%-quantile is the number that separates the lowest p% observationer from the (100 - p)% largest observationer.\n"
   ]
  },
  {
   "cell_type": "markdown",
   "id": "6553fa3a-fb2b-4af8-8da9-cf8fa8c1d8e2",
   "metadata": {},
   "source": [
    "50%-quantile is also called the median.\n"
   ]
  },
  {
   "cell_type": "markdown",
   "id": "2b8c977b-deb6-4c8a-a03c-d36005b2115a",
   "metadata": {},
   "source": [
    "Quantiles are also called Rank statistics, since the observations must be sorted in order to find the quantiles\n"
   ]
  },
  {
   "cell_type": "markdown",
   "id": "b56fd538-6bcb-41c0-9410-09db7c48d47d",
   "metadata": {},
   "source": [
    "Let us simulate 100 random numbers between 1 and 100 and sort them\n"
   ]
  },
  {
   "cell_type": "code",
   "execution_count": null,
   "id": "419ef0b2-7146-421f-b862-58eb3778de94",
   "metadata": {},
   "outputs": [],
   "source": [
    "liste_af_tal = pd.Series([random.randint(1, 100) for _ in range(0, 100)]).sort_values(\n",
    "    ascending=True\n",
    ")\n",
    "upper_quantile = liste_af_tal.quantile(0.95, interpolation=\"nearest\")"
   ]
  },
  {
   "cell_type": "markdown",
   "id": "fb0b77f2",
   "metadata": {},
   "source": [
    "and plot them\n"
   ]
  },
  {
   "cell_type": "code",
   "execution_count": null,
   "id": "a0517b99-730d-45b0-9cfe-a72f8d24b716",
   "metadata": {},
   "outputs": [],
   "source": [
    "ax = liste_af_tal.plot\n",
    "bar = ax.bar(grid=True, width=1.0, color=\"#607c8e\", figsize=(14, 8))\n",
    "_ = bar.axvline(\n",
    "    x=upper_quantile,\n",
    "    color=\"red\",\n",
    "    linewidth=2,\n",
    ")"
   ]
  }
 ],
 "metadata": {
  "kernelspec": {
   "display_name": "Python 3 (ipykernel)",
   "language": "python",
   "name": "python3"
  },
  "language_info": {
   "codemirror_mode": {
    "name": "ipython",
    "version": 3
   },
   "file_extension": ".py",
   "mimetype": "text/x-python",
   "name": "python",
   "nbconvert_exporter": "python",
   "pygments_lexer": "ipython3",
   "version": "3.10.13"
  }
 },
 "nbformat": 4,
 "nbformat_minor": 5
}
