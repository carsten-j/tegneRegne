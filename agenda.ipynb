{
 "cells": [
  {
   "cell_type": "markdown",
   "metadata": {},
   "source": [
    "# Agenda"
   ]
  },
  {
   "cell_type": "markdown",
   "metadata": {},
   "source": [
    "* Why is it a good idea to visualize your data\n",
    "    * and what to do if you have more than 3 dimensions\n",
    "* How do you compare performance measurements and quantify if there is a real difference\n",
    "    * What is quantiles\n",
    "* Are response times normally distributed\n",
    "    * and how should one report response times\n",
    "* Hvordan regner man med oppetider?\n",
    "\n",
    "If the time permits then we will also look at\n",
    "* Bootstrapping or how one can determine a confidence interval if you only have one set of observations.\n",
    "* Fake it till you make it. You can do a lot with simulation."
   ]
  },
  {
   "cell_type": "markdown",
   "metadata": {},
   "source": []
  }
 ],
 "metadata": {
  "kernelspec": {
   "display_name": ".venv",
   "language": "python",
   "name": "python3"
  },
  "language_info": {
   "codemirror_mode": {
    "name": "ipython",
    "version": 3
   },
   "file_extension": ".py",
   "mimetype": "text/x-python",
   "name": "python",
   "nbconvert_exporter": "python",
   "pygments_lexer": "ipython3",
   "version": "3.10.13"
  }
 },
 "nbformat": 4,
 "nbformat_minor": 2
}
