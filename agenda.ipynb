{
 "cells": [
  {
   "cell_type": "markdown",
   "metadata": {},
   "source": [
    "# Agenda"
   ]
  },
  {
   "cell_type": "markdown",
   "metadata": {},
   "source": [
    "* Hvorfor er det en god ide at visualisere ens data\n",
    "    * Og hvad gør man med data i mere end 3 dimensioner\n",
    "* Hvordan sammenligner man performancemålinger\n",
    "    * Herunder hvad er kvartiler\n",
    "* Er response tider fra fx et API normalfordelte?\n",
    "    * og hvordan skal man egentligt rapportere svartider\n",
    "* Hvordan regner man med oppetider?\n",
    "\n",
    "Hvis der er tid, så kigger vi også på\n",
    "* Bootstrapping eller hvordan man bestemmer usikkerheden på fx et gennemsnit når man kun har et sæt af observationer.\n",
    "* Fake it till you make it. Hvad nu hvis vi ikke har data eller ved hvordan man regner et eller andet ud."
   ]
  },
  {
   "cell_type": "markdown",
   "metadata": {},
   "source": []
  }
 ],
 "metadata": {
  "kernelspec": {
   "display_name": ".venv",
   "language": "python",
   "name": "python3"
  },
  "language_info": {
   "codemirror_mode": {
    "name": "ipython",
    "version": 3
   },
   "file_extension": ".py",
   "mimetype": "text/x-python",
   "name": "python",
   "nbconvert_exporter": "python",
   "pygments_lexer": "ipython3",
   "version": "3.10.13"
  }
 },
 "nbformat": 4,
 "nbformat_minor": 2
}
