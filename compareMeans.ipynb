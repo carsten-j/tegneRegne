{
 "cells": [
  {
   "cell_type": "markdown",
   "id": "386982cc",
   "metadata": {},
   "source": [
    "# Comparing 2 groups of performance measurements"
   ]
  },
  {
   "cell_type": "code",
   "execution_count": null,
   "id": "f013b87a-7ce2-47dc-b26b-d6ebd86c8a9c",
   "metadata": {
    "slideshow": {
     "slide_type": "skip"
    }
   },
   "outputs": [],
   "source": [
    "import numpy as np\n",
    "import pandas as pd\n",
    "from matplotlib import pyplot as plt\n",
    "from scipy.stats import mannwhitneyu"
   ]
  },
  {
   "cell_type": "markdown",
   "id": "4044b556",
   "metadata": {},
   "source": [
    "## Tip! \n",
    "\n",
    "If you wan't to do performance measurements in C# then have a look at [BenchmarkDotNet](https://benchmarkdotnet.org/index.html)."
   ]
  },
  {
   "cell_type": "markdown",
   "id": "5d9325cf",
   "metadata": {},
   "source": [
    "Let's say we have 2 groups of performance measurements - each with 25 observations"
   ]
  },
  {
   "cell_type": "code",
   "execution_count": null,
   "id": "f0747731-867e-46c9-8a38-516f34dcfab2",
   "metadata": {
    "slideshow": {
     "slide_type": "skip"
    }
   },
   "outputs": [],
   "source": [
    "perfMeasurement1 = np.array([27, 20, 21, 26, 27, 31, 24, 21, 20, 19, 23, 24, 28, 19, 24, 29, 18, 20, 17, 31, 20, 25, 28, 21, 27])\n",
    "perfMeasurement2 = np.array([21, 22, 15, 12, 21, 21, 19, 26, 22, 24, 17, 23, 19, 22, 20, 24, 18, 13, 29, 21, 19, 14, 23, 17, 20])"
   ]
  },
  {
   "cell_type": "code",
   "execution_count": null,
   "id": "e4b6390e-7735-4694-850e-be46502c1572",
   "metadata": {
    "slideshow": {
     "slide_type": "slide"
    }
   },
   "outputs": [],
   "source": [
    "data = pd.DataFrame(\n",
    "    {\"perfMeasurement1\": perfMeasurement1, \"perfMeasurement2\": perfMeasurement2}\n",
    ")"
   ]
  },
  {
   "cell_type": "code",
   "execution_count": null,
   "id": "ff8fc01e",
   "metadata": {},
   "outputs": [],
   "source": [
    "data.plot(kind=\"box\", title=\"boxplot\");"
   ]
  },
  {
   "cell_type": "markdown",
   "id": "27f272d8",
   "metadata": {},
   "source": [
    "Please be aware that there is more accurate way of visualizing this but those plots require a bit more insight in probability distributions, so we are using the boxplot as it is easier to understand."
   ]
  },
  {
   "cell_type": "markdown",
   "id": "ff1df16f",
   "metadata": {},
   "source": [
    "## Statistical test\n",
    "\n",
    "### Student's t-test\n",
    "\n",
    "- Prerequisites for using test\n",
    "- Calculate test statistic (using some formula and find determine degrees of freedom)\n",
    "- P-value\n",
    "- Null hypothesis\n",
    "- Significant\n"
   ]
  },
  {
   "cell_type": "markdown",
   "id": "7b4ac0f9",
   "metadata": {},
   "source": [
    "Let's move on by assumning that it DOES NOT make a difference if a measurement is in one group or another. If that is the case they we should be able to shuffle the measurements around without any \n",
    "impact."
   ]
  },
  {
   "cell_type": "markdown",
   "id": "6ded5739",
   "metadata": {},
   "source": [
    "<video width=\"6400\" height=\"480\" \n",
    "       src=\"./sample_640x360.mp4\"  \n",
    "       controls>\n",
    "</video>"
   ]
  },
  {
   "cell_type": "code",
   "execution_count": null,
   "id": "13703ccb",
   "metadata": {},
   "outputs": [],
   "source": [
    "mean = data.mean()\n",
    "mean"
   ]
  },
  {
   "cell_type": "code",
   "execution_count": null,
   "id": "e92e2050-885b-4389-8b2d-541718308142",
   "metadata": {
    "slideshow": {
     "slide_type": "subslide"
    }
   },
   "outputs": [],
   "source": [
    "mean = mean.iloc[0] - mean.iloc[1]\n",
    "mean"
   ]
  },
  {
   "cell_type": "code",
   "execution_count": null,
   "id": "32aac46a-8962-4edf-bb9a-cb571fb519b8",
   "metadata": {
    "slideshow": {
     "slide_type": "slide"
    }
   },
   "outputs": [],
   "source": [
    "allPerfMeasurements = np.concatenate((perfMeasurement1, perfMeasurement2))"
   ]
  },
  {
   "cell_type": "code",
   "execution_count": null,
   "id": "f845402b",
   "metadata": {},
   "outputs": [],
   "source": [
    "n_halfPerfMeasurements = int(len(allPerfMeasurements) / 2)"
   ]
  },
  {
   "cell_type": "code",
   "execution_count": null,
   "id": "c386295d-43c9-48de-9cd3-3c911acdcbbd",
   "metadata": {
    "slideshow": {
     "slide_type": "slide"
    }
   },
   "outputs": [],
   "source": [
    "simulated_means = []\n",
    "samples = 100000"
   ]
  },
  {
   "cell_type": "code",
   "execution_count": null,
   "id": "398fb21c-b412-4755-a419-3ffc5021f23a",
   "metadata": {
    "slideshow": {
     "slide_type": "subslide"
    }
   },
   "outputs": [],
   "source": [
    "for i in range(0, samples):\n",
    "    np.random.shuffle(allPerfMeasurements)\n",
    "\n",
    "    simulated_means.append(\n",
    "        np.mean(allPerfMeasurements[:n_halfPerfMeasurements])\n",
    "        - np.mean(allPerfMeasurements[n_halfPerfMeasurements:])\n",
    "    )"
   ]
  },
  {
   "cell_type": "code",
   "execution_count": null,
   "id": "958b81b1",
   "metadata": {},
   "outputs": [],
   "source": [
    "two_std = 2.0 * np.std(simulated_means, ddof=1)"
   ]
  },
  {
   "cell_type": "code",
   "execution_count": null,
   "id": "6e8dbbb3-1903-4546-89f5-7ea5252a6372",
   "metadata": {
    "slideshow": {
     "slide_type": "slide"
    }
   },
   "outputs": [],
   "source": [
    "plt.figure(1, figsize=(16, 8))\n",
    "plt.hist(simulated_means, bins=300)\n",
    "_ = plt.axvline(x=mean, ymax=1, linewidth=1.5, color=\"red\")\n",
    "_ = plt.axvline(x=two_std, ymax=1, linewidth=1.5, color=\"black\")"
   ]
  },
  {
   "cell_type": "code",
   "execution_count": null,
   "id": "8ed0e0ce",
   "metadata": {},
   "outputs": [],
   "source": [
    "len(np.where(simulated_means >= mean)[0])"
   ]
  },
  {
   "cell_type": "code",
   "execution_count": null,
   "id": "dad40df8-9f1b-4fde-ad54-a027e783b9a9",
   "metadata": {
    "slideshow": {
     "slide_type": "subslide"
    }
   },
   "outputs": [],
   "source": [
    "obs = len(np.where(simulated_means >= mean)[0]) / samples\n",
    "obs"
   ]
  },
  {
   "cell_type": "markdown",
   "id": "07c62b7a",
   "metadata": {},
   "source": [
    "We are on solid ground. This approach is not just something I came up with. More generally this is a type of statistics called non-parametric statistics which is characterized by having a minimum of requirements for using it.\n",
    "\n",
    "In particular the above approach is known as Mann Whitney U-test!\n"
   ]
  },
  {
   "cell_type": "code",
   "execution_count": null,
   "id": "4f927a7e-22dd-4b0c-a73a-879394ccfb52",
   "metadata": {},
   "outputs": [],
   "source": [
    "alpha = 0.05\n",
    "stat, p = mannwhitneyu(perfMeasurement1, perfMeasurement2)\n",
    "print(\"Statistics=%.3f, p=%.3f\" % (stat, p))\n",
    "\n",
    "# interpret\n",
    "if p > alpha:\n",
    "    print(\"Same distribution (fail to reject H0)\")\n",
    "else:\n",
    "    print(\"Different distribution (reject H0)\")"
   ]
  }
 ],
 "metadata": {
  "kernelspec": {
   "display_name": "Python 3 (ipykernel)",
   "language": "python",
   "name": "python3"
  },
  "language_info": {
   "codemirror_mode": {
    "name": "ipython",
    "version": 3
   },
   "file_extension": ".py",
   "mimetype": "text/x-python",
   "name": "python",
   "nbconvert_exporter": "python",
   "pygments_lexer": "ipython3",
   "version": "3.10.13"
  }
 },
 "nbformat": 4,
 "nbformat_minor": 5
}
