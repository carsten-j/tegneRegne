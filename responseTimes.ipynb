{
 "cells": [
  {
   "cell_type": "code",
   "execution_count": 3,
   "metadata": {},
   "outputs": [],
   "source": [
    "import preliz as pz"
   ]
  },
  {
   "cell_type": "markdown",
   "metadata": {},
   "source": [
    "# Distribution of response times from websites, API's etc"
   ]
  },
  {
   "cell_type": "markdown",
   "metadata": {},
   "source": [
    "## Does it make sense to use a normal distribution to model response times?"
   ]
  },
  {
   "cell_type": "code",
   "execution_count": 9,
   "metadata": {},
   "outputs": [
    {
     "data": {
      "application/vnd.jupyter.widget-view+json": {
       "model_id": "8680e5aefd264165a7ad4a0a2843ea3e",
       "version_major": 2,
       "version_minor": 0
      },
      "text/plain": [
       "interactive(children=(FloatSlider(value=0.0, description='mu (-inf, inf)', max=10.0, min=-10.0, style=SliderSt…"
      ]
     },
     "execution_count": 9,
     "metadata": {},
     "output_type": "execute_result"
    }
   ],
   "source": [
    "pz.Normal(0,1).plot_interactive(kind='pdf')"
   ]
  },
  {
   "cell_type": "markdown",
   "metadata": {},
   "source": [
    "## All models are wrong, but some are useful\n",
    "\n",
    "George Box, quote from 1976 paper"
   ]
  },
  {
   "cell_type": "markdown",
   "metadata": {},
   "source": [
    "## Most likely not\n",
    "\n",
    "Response times are a one sided distribution. There’s a minimum possible response time for when everything goes right and there’s no delays. Every opportunity for delay due to more work than the best case or more time waiting than the best case increases the latency and they all add up and create a long tail.\n"
   ]
  },
  {
   "cell_type": "code",
   "execution_count": 11,
   "metadata": {},
   "outputs": [
    {
     "data": {
      "application/vnd.jupyter.widget-view+json": {
       "model_id": "c113f0a35d404eb0889b2ce47c4487ff",
       "version_major": 2,
       "version_minor": 0
      },
      "text/plain": [
       "interactive(children=(FloatSlider(value=-0.6, description='mu (-inf, inf)', max=0.4, min=-1.6, step=0.01, styl…"
      ]
     },
     "execution_count": 11,
     "metadata": {},
     "output_type": "execute_result"
    }
   ],
   "source": [
    "pz.LogNormal(-0.6,1).plot_interactive(kind='pdf')"
   ]
  },
  {
   "cell_type": "markdown",
   "metadata": {},
   "source": [
    "### What should we write in a SLA?"
   ]
  },
  {
   "cell_type": "markdown",
   "metadata": {},
   "source": [
    "Mean or median and maybe add standard deviation?"
   ]
  },
  {
   "cell_type": "markdown",
   "metadata": {},
   "source": [
    "If we choose the median we only know that half of the users experience a response time lower than the median"
   ]
  },
  {
   "cell_type": "markdown",
   "metadata": {},
   "source": [
    "Or as Amazon’s Werner Vogels said in an AWS re:Invent keynote, the only thing an average tells you is half of your customers are having a worse experience."
   ]
  },
  {
   "cell_type": "markdown",
   "metadata": {},
   "source": [
    "Why is it a better idea to use quantiles?\n"
   ]
  },
  {
   "cell_type": "markdown",
   "metadata": {},
   "source": [
    "> Because looking at your average response time is like measuring the average temperature of a hospital. What you really care about is a patient’s temperature, and in particular, the patients who need the most help. The best way to measure this is to track the 99th percentile response time: the worst 1%.\n",
    "\n",
    "[source](https://www.optimizely.com/insights/blog/why-cdn-balancing/)"
   ]
  },
  {
   "cell_type": "markdown",
   "metadata": {},
   "source": [
    "Averages hide the outliers, so you can’t see them.\n",
    "Outliers skew averages, so in a system with outliers, the average doesn’t represent typical behavior.\n"
   ]
  },
  {
   "cell_type": "markdown",
   "metadata": {},
   "source": [
    "But wait. Didn't we previously learn that we need to order observations to compute quantiles. So how would we go about and do this for at infinite steam of response times.\n"
   ]
  },
  {
   "cell_type": "code",
   "execution_count": 2,
   "metadata": {},
   "outputs": [
    {
     "ename": "SyntaxError",
     "evalue": "invalid character '’' (U+2019) (1016009176.py, line 31)",
     "output_type": "error",
     "traceback": [
      "\u001b[0;36m  Cell \u001b[0;32mIn[2], line 31\u001b[0;36m\u001b[0m\n\u001b[0;31m    Averages hide the outliers, so you can’t see them.\u001b[0m\n\u001b[0m                                          ^\u001b[0m\n\u001b[0;31mSyntaxError\u001b[0m\u001b[0;31m:\u001b[0m invalid character '’' (U+2019)\n"
     ]
    }
   ],
   "source": [
    "\n",
    "Motivation kunne fx være\n",
    "\n",
    "-- Citat fra artikel om Amazon Dynamo\n",
    "\n",
    "A common approach in the industry for forming a performance oriented SLA is to describe it using average, median and expected variance. At Amazon we have found that these metrics are not good enough if the goal is to build a system where all customers have a good experience,\n",
    "\n",
    "http://www.allthingsdistributed.com/files/amazon-dynamo-sosp2007.pdf\n",
    "\n",
    "The paper rejects the notion of defining SLAs with median expectations. Instead, Dynamo uses 99.9 percentiles. The central idea is that the SLA defines acceptable usage for all users - not just for half of them (the median).\n",
    "Lidt mere generelle betragtning om fordelingen\n",
    "\n",
    "Se fx https://newrelic.com/blog/best-practices/expected-distributions-website-response-times\n",
    "\n",
    "Bemærkning om at fordelingen (vist ved et histogram) kan have flere peaks Se fx mere om \"modes\" her: https://www.brendangregg.com/frequencytrails.html og videre her https://adrianco.medium.com/percentiles-dont-work-analyzing-the-distribution-of-response-times-for-web-services-ace36a6a2a19\n",
    "\n",
    "Endvidere fra sidste link\n",
    "\n",
    "\n",
    "Check out  hdrhistogram package Build by Gil Tene https://www.youtube.com/watch?v=lJ8ydIuPFeU\n",
    "\n",
    "--\n",
    "\n",
    "Responsiveness goal https://developer.mozilla.org/en-US/docs/Web/Performance/How_long_is_too_long#responsiveness_goal\n",
    "\n",
    "RED signals https://grafana.com/files/grafanacon_eu_2018/Tom_Wilkie_GrafanaCon_EU_2018.pdf\n",
    "\n",
    "\n",
    "https://orangematter.solarwinds.com/2016/11/18/why-percentiles-dont-work-the-way-you-think/\n",
    "\n",
    "\n",
    "Vær opmærksom på hvordan TSDB gemmer metrics - da det f.eks ikke giver mening at tage gennemsnit af 95% kvartil.\n",
    "\n",
    "If a percentile requires the population of original events—such as measurements of every web page load—we have a big problem. A Big Data problem, to be exact. Percentiles are notoriously expensive to compute because of this. Lots of ways to compute approximate percentiles are almost as good as keeping the entire population and querying and sorting it.\n",
    "\n",
    "Fx bruger Prometheus histogrammer. Men der er også andre teknikker som fx reservoir sampling https://medium.com/paypal-tech/statistics-for-software-e395ca08005d\n",
    "\n",
    "HVOR STOR EN FEJL INTRODUCERES VED AT BRUGE DISSE APPROKSIMATIONER?\n",
    "\n",
    "Alternativt til histogrammer er banded metrics\n",
    "\n",
    "Uanset om man vælger det ene eller andet så er\n",
    "\n",
    "Choosing the ranges well is a hard problem, generally. Common solutions include logarithmic ranges and ranges providing a given number of significant digits but may be faster to calculate at the cost of not growing uniformly. Even divisions are rarely a good choice. For more on these topics, please read Brendan Gregg’s excellent write-up.\n",
    "\n",
    "Percentile er bedre end average men det er stadig kun et tal. For mere info kan man bruge heatmaps. Se fx https://www.brendangregg.com/HeatMaps/latency.html#HeatMap\n",
    "\n",
    "Histogrammer i Promethus\n",
    "Best practices https://prometheus.io/docs/practices/histograms/\n",
    "\n",
    "Error estimat i appraksimation\n",
    "\n",
    "Apdex score\n",
    "\n",
    "Ny feature på vej native histograms: https://promcon.io/2022-munich/talks/native-histograms-in-prometheus/\n",
    "\n",
    "Se mere på https://twitter.com/juliusvolz/status/1142183723179368448 og https://promlabs.com/blog/2021/01/29/how-exactly-does-promql-calculate-rates/ for hvordan kvartiler bestemmes udfra histogram Læs især spørgsmål stillet af mig nederst på siden.\n",
    "\n",
    "Heatmaps i Grafana https://grafana.com/blog/2020/06/23/how-to-visualize-prometheus-histograms-in-grafana/\n",
    "\n",
    "Referencer\n",
    "https://www.brendangregg.com/systems-performance-2nd-edition-book.html\n",
    "\n",
    "gennemsnit som balance punkt [Duxbury Advanced] John A. Rice - Mathematical Statistics and Data Analysis 3ed (Duxbury Advanced) (2006, Duxbury Press)"
   ]
  }
 ],
 "metadata": {
  "kernelspec": {
   "display_name": ".venv",
   "language": "python",
   "name": "python3"
  },
  "language_info": {
   "codemirror_mode": {
    "name": "ipython",
    "version": 3
   },
   "file_extension": ".py",
   "mimetype": "text/x-python",
   "name": "python",
   "nbconvert_exporter": "python",
   "pygments_lexer": "ipython3",
   "version": "3.10.13"
  }
 },
 "nbformat": 4,
 "nbformat_minor": 2
}
