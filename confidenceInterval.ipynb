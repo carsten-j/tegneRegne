{
 "cells": [
  {
   "cell_type": "code",
   "execution_count": null,
   "id": "66b9a2ed-f67b-4ae0-bcc4-bc36202d02e9",
   "metadata": {},
   "outputs": [],
   "source": [
    "import numpy as np\n",
    "import pandas as pd"
   ]
  },
  {
   "cell_type": "code",
   "execution_count": null,
   "id": "666b0b31",
   "metadata": {},
   "outputs": [],
   "source": [
    "df = pd.DataFrame(np.array([27, 20, 21, 26, 27, 31, 24, 21, 20, 19, 23, 24, 28, 19, 24, 29, 18, 20, 17, 31, 20, 25, 28, 21, 27]), columns=['perf'])"
   ]
  },
  {
   "cell_type": "code",
   "execution_count": null,
   "id": "0fa9209a",
   "metadata": {},
   "outputs": [],
   "source": [
    "df.plot(kind = 'hist', bins = 5, title = 'Distribution of the performance measurements');"
   ]
  },
  {
   "cell_type": "code",
   "execution_count": null,
   "id": "b51745c0",
   "metadata": {},
   "outputs": [],
   "source": [
    "# calculate the bootstrap sample mean\n",
    "sample_mean = df.mean()\n",
    "sample_mean"
   ]
  },
  {
   "cell_type": "code",
   "execution_count": null,
   "id": "49cd13aa",
   "metadata": {},
   "outputs": [],
   "source": [
    "sample = df['perf'].sample(n = 25, replace = True)\n",
    "sample"
   ]
  },
  {
   "cell_type": "code",
   "execution_count": null,
   "id": "b117b242",
   "metadata": {},
   "outputs": [],
   "source": [
    "# create a list for sample means\n",
    "sample_means = []\n",
    "\n",
    "n_samples = 10000\n",
    "\n",
    "# loop n_samples times\n",
    "for i in range(n_samples):\n",
    "    \n",
    "    # create a bootstrap sample of sample_size with replacement\n",
    "    bootstrap_sample = df['perf'].sample(n = 25, replace = True)\n",
    "    \n",
    "    # calculate the bootstrap sample mean\n",
    "    sample_mean = bootstrap_sample.mean()\n",
    "    \n",
    "    # add this sample mean to the sample means list\n",
    "    sample_means.append(sample_mean)"
   ]
  },
  {
   "cell_type": "code",
   "execution_count": null,
   "id": "c5ca15d5",
   "metadata": {},
   "outputs": [],
   "source": [
    "sample_means = pd.Series(sample_means)"
   ]
  },
  {
   "cell_type": "code",
   "execution_count": null,
   "id": "62462a45",
   "metadata": {},
   "outputs": [],
   "source": [
    "# plot the distribution\n",
    "sample_means.plot(kind = 'hist', bins = 20, title = 'Distribution of the Bootstrap sample means');"
   ]
  },
  {
   "cell_type": "code",
   "execution_count": null,
   "id": "f1ad7cd3",
   "metadata": {},
   "outputs": [],
   "source": [
    "# 2.5% quantile\n",
    "ci_lower = sample_means.quantile(q = 0.025)\n",
    "\n",
    "# 97.5% quantile\n",
    "ci_higher = sample_means.quantile(q = 0.975)"
   ]
  },
  {
   "cell_type": "code",
   "execution_count": null,
   "id": "15908186",
   "metadata": {},
   "outputs": [],
   "source": [
    "ci_lower, ci_higher"
   ]
  },
  {
   "cell_type": "code",
   "execution_count": null,
   "id": "4d6e92e7",
   "metadata": {},
   "outputs": [],
   "source": [
    "# plot the distribution \n",
    "sample_means.plot(kind = 'hist', bins = 20, title = 'Confidence Interval of the Sample Means')\n",
    "\n",
    "# add the lower bound and upper bound of the confidence interval\n",
    "plt.axvline(ci_lower, color = 'red', ls = '--')\n",
    "plt.axvline(ci_higher, color = 'red', ls = '--');"
   ]
  },
  {
   "cell_type": "markdown",
   "id": "adf3482a-3a43-47e2-b4d5-e70ed3997eac",
   "metadata": {},
   "source": [
    "We are 95% confident that the true mean is between 22.04 and 25.2"
   ]
  },
  {
   "cell_type": "markdown",
   "id": "05f4f92e",
   "metadata": {},
   "source": [
    "### Resources\n",
    "\n",
    "[Bootstrap Confidence Intervals](https://acclab.github.io/bootstrap-confidence-intervals.html)"
   ]
  },
  {
   "cell_type": "markdown",
   "id": "aaf038d8",
   "metadata": {},
   "source": []
  }
 ],
 "metadata": {
  "kernelspec": {
   "display_name": "Python 3 (ipykernel)",
   "language": "python",
   "name": "python3"
  },
  "language_info": {
   "codemirror_mode": {
    "name": "ipython",
    "version": 3
   },
   "file_extension": ".py",
   "mimetype": "text/x-python",
   "name": "python",
   "nbconvert_exporter": "python",
   "pygments_lexer": "ipython3",
   "version": "3.12.1"
  }
 },
 "nbformat": 4,
 "nbformat_minor": 5
}
